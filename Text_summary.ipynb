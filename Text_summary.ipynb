{
  "nbformat": 4,
  "nbformat_minor": 0,
  "metadata": {
    "colab": {
      "name": "Text_summary.ipynb",
      "provenance": [],
      "collapsed_sections": []
    },
    "kernelspec": {
      "name": "python3",
      "display_name": "Python 3"
    },
    "language_info": {
      "name": "python"
    }
  },
  "cells": [
    {
      "cell_type": "code",
      "metadata": {
        "colab": {
          "base_uri": "https://localhost:8080/"
        },
        "id": "XszUtKL8cJCk",
        "outputId": "c970739d-82a2-4a91-f7b0-1c660ce6c643"
      },
      "source": [
        "import pandas as pd\n",
        "import nltk\n",
        "nltk.download('punkt')\n",
        "nltk.download('stopwords')\n",
        "import numpy as np\n",
        "from sklearn.feature_extraction.text import TfidfVectorizer\n",
        "from scipy.sparse.linalg import svds\n",
        "stop_words = nltk.corpus.stopwords.words('english')"
      ],
      "execution_count": null,
      "outputs": [
        {
          "output_type": "stream",
          "name": "stdout",
          "text": [
            "[nltk_data] Downloading package punkt to /root/nltk_data...\n",
            "[nltk_data]   Unzipping tokenizers/punkt.zip.\n",
            "[nltk_data] Downloading package stopwords to /root/nltk_data...\n",
            "[nltk_data]   Unzipping corpora/stopwords.zip.\n"
          ]
        }
      ]
    },
    {
      "cell_type": "code",
      "metadata": {
        "id": "Ym4H9cIClrNF"
      },
      "source": [
        "df = pd.read_csv('Reddit_covid_threads.csv')\n",
        "df1 = pd.read_csv('Youtube_covid_comments.csv')\n",
        "df2 = pd.read_csv('Twitter_covid_tweets.csv')"
      ],
      "execution_count": null,
      "outputs": []
    },
    {
      "cell_type": "code",
      "metadata": {
        "id": "CgA5184wmN_E"
      },
      "source": [
        "import re\n",
        "def combine_text(df):\n",
        "  text = '. '.join(df['Text'].to_list())\n",
        "  text = re.sub(\"(\\s*[\\.!?:]\\s*[\\.!?:]*\\s*)+\", \". \", text)\n",
        "  text = re.sub(\"(\\s*,\\s*[\\.!?:,]*\\s*)+\", \", \", text)\n",
        "  return text"
      ],
      "execution_count": null,
      "outputs": []
    },
    {
      "cell_type": "code",
      "metadata": {
        "id": "5ofA8oh7YTdB"
      },
      "source": [
        "def normalize_document(doc):\n",
        "    # lower case and remove special characters\\whitespaces\n",
        "    doc = re.sub(r'[^a-zA-Z\\s]', '', doc, re.I|re.A)\n",
        "    doc = doc.lower()\n",
        "    doc = doc.strip()\n",
        "    # tokenize document\n",
        "    tokens = nltk.word_tokenize(doc)\n",
        "    # filter stopwords out of document\n",
        "    filtered_tokens = [token for token in tokens if token not in stop_words]\n",
        "    # re-create document from filtered tokens\n",
        "    doc = ' '.join(filtered_tokens)\n",
        "    return doc"
      ],
      "execution_count": null,
      "outputs": []
    },
    {
      "cell_type": "code",
      "metadata": {
        "id": "Wci8cyVTZKSm"
      },
      "source": [
        "def low_rank_svd(matrix, singular_count=2):\n",
        "    u, s, vt = svds(matrix, k=singular_count)\n",
        "    return u, s, vt"
      ],
      "execution_count": null,
      "outputs": []
    },
    {
      "cell_type": "code",
      "metadata": {
        "id": "4ZELgCNGYU3N"
      },
      "source": [
        "def summarize(DOCUMENT):\n",
        "  sentences = list(set(nltk.sent_tokenize(DOCUMENT)))\n",
        "\n",
        "  normalize_corpus = np.vectorize(normalize_document)\n",
        "  norm_sentences = normalize_corpus(sentences)\n",
        "\n",
        "  tv = TfidfVectorizer(min_df=0., max_df=1., use_idf=True)\n",
        "  dt_matrix = tv.fit_transform(norm_sentences)\n",
        "  dt_matrix = dt_matrix.toarray()\n",
        "\n",
        "  vocab = tv.get_feature_names_out()\n",
        "  td_matrix = dt_matrix.T\n",
        "  # pd.DataFrame(np.round(td_matrix, 2), index=vocab).head(10)\n",
        "\n",
        "  num_sentences = 80\n",
        "  num_topics = 8\n",
        "\n",
        "  u, s, vt = low_rank_svd(td_matrix, singular_count=num_topics)  \n",
        "  # print(u.shape, s.shape, vt.shape)\n",
        "  term_topic_mat, singular_values, topic_document_mat = u, s, vt\n",
        "\n",
        "  # remove singular values below threshold                                         \n",
        "  sv_threshold = 0.5\n",
        "  min_sigma_value = max(singular_values) * sv_threshold\n",
        "  singular_values[singular_values < min_sigma_value] = 0\n",
        "\n",
        "  salience_scores = np.sqrt(np.dot(np.square(singular_values),np.square(topic_document_mat)))\n",
        "  top_sentence_indices = (-salience_scores).argsort()[:num_sentences]\n",
        "  top_sentence_indices.sort()\n",
        "  summarized_result = ' '.join(np.array(sentences)[top_sentence_indices])\n",
        "\n",
        "  return summarized_result"
      ],
      "execution_count": null,
      "outputs": []
    },
    {
      "cell_type": "code",
      "metadata": {
        "colab": {
          "base_uri": "https://localhost:8080/"
        },
        "id": "8IpZdKKzvDW-",
        "outputId": "66682343-7b66-431b-8af8-bf1abe3fae9b"
      },
      "source": [
        "categories = range(20)\n",
        "emotions = ['fear', 'joy', 'surprise', 'sadness']\n",
        "\n",
        "df_all = pd.concat([df,df1,df2])\n",
        "for category in categories:\n",
        "  for emotion in emotions:\n",
        "    print(\"Whole Summary of Topic \" + str(category) + \" with Emotion \" + str(emotion))\n",
        "    text_file = open(\"all_\" + str(category)+ \"_\" + str(emotion) + \".txt\", \"w\")\n",
        "    text_file.write(summarize(combine_text(df_all[(df_all['Category'] == category) & (df_all['Emotion'] == emotion)])))\n",
        "    text_file.close()"
      ],
      "execution_count": null,
      "outputs": [
        {
          "output_type": "stream",
          "name": "stdout",
          "text": [
            "Whole Summary of Topic 0 with Emotion fear\n",
            "Whole Summary of Topic 0 with Emotion joy\n",
            "Whole Summary of Topic 0 with Emotion surprise\n",
            "Whole Summary of Topic 0 with Emotion sadness\n",
            "Whole Summary of Topic 1 with Emotion fear\n",
            "Whole Summary of Topic 1 with Emotion joy\n",
            "Whole Summary of Topic 1 with Emotion surprise\n",
            "Whole Summary of Topic 1 with Emotion sadness\n",
            "Whole Summary of Topic 2 with Emotion fear\n",
            "Whole Summary of Topic 2 with Emotion joy\n",
            "Whole Summary of Topic 2 with Emotion surprise\n",
            "Whole Summary of Topic 2 with Emotion sadness\n",
            "Whole Summary of Topic 3 with Emotion fear\n",
            "Whole Summary of Topic 3 with Emotion joy\n",
            "Whole Summary of Topic 3 with Emotion surprise\n",
            "Whole Summary of Topic 3 with Emotion sadness\n",
            "Whole Summary of Topic 4 with Emotion fear\n",
            "Whole Summary of Topic 4 with Emotion joy\n",
            "Whole Summary of Topic 4 with Emotion surprise\n",
            "Whole Summary of Topic 4 with Emotion sadness\n",
            "Whole Summary of Topic 5 with Emotion fear\n",
            "Whole Summary of Topic 5 with Emotion joy\n",
            "Whole Summary of Topic 5 with Emotion surprise\n",
            "Whole Summary of Topic 5 with Emotion sadness\n",
            "Whole Summary of Topic 6 with Emotion fear\n",
            "Whole Summary of Topic 6 with Emotion joy\n",
            "Whole Summary of Topic 6 with Emotion surprise\n",
            "Whole Summary of Topic 6 with Emotion sadness\n",
            "Whole Summary of Topic 7 with Emotion fear\n",
            "Whole Summary of Topic 7 with Emotion joy\n",
            "Whole Summary of Topic 7 with Emotion surprise\n",
            "Whole Summary of Topic 7 with Emotion sadness\n",
            "Whole Summary of Topic 8 with Emotion fear\n",
            "Whole Summary of Topic 8 with Emotion joy\n",
            "Whole Summary of Topic 8 with Emotion surprise\n",
            "Whole Summary of Topic 8 with Emotion sadness\n",
            "Whole Summary of Topic 9 with Emotion fear\n",
            "Whole Summary of Topic 9 with Emotion joy\n",
            "Whole Summary of Topic 9 with Emotion surprise\n",
            "Whole Summary of Topic 9 with Emotion sadness\n",
            "Whole Summary of Topic 10 with Emotion fear\n",
            "Whole Summary of Topic 10 with Emotion joy\n",
            "Whole Summary of Topic 10 with Emotion surprise\n",
            "Whole Summary of Topic 10 with Emotion sadness\n",
            "Whole Summary of Topic 11 with Emotion fear\n",
            "Whole Summary of Topic 11 with Emotion joy\n",
            "Whole Summary of Topic 11 with Emotion surprise\n",
            "Whole Summary of Topic 11 with Emotion sadness\n",
            "Whole Summary of Topic 12 with Emotion fear\n",
            "Whole Summary of Topic 12 with Emotion joy\n",
            "Whole Summary of Topic 12 with Emotion surprise\n",
            "Whole Summary of Topic 12 with Emotion sadness\n",
            "Whole Summary of Topic 13 with Emotion fear\n",
            "Whole Summary of Topic 13 with Emotion joy\n",
            "Whole Summary of Topic 13 with Emotion surprise\n",
            "Whole Summary of Topic 13 with Emotion sadness\n",
            "Whole Summary of Topic 14 with Emotion fear\n",
            "Whole Summary of Topic 14 with Emotion joy\n",
            "Whole Summary of Topic 14 with Emotion surprise\n",
            "Whole Summary of Topic 14 with Emotion sadness\n",
            "Whole Summary of Topic 15 with Emotion fear\n",
            "Whole Summary of Topic 15 with Emotion joy\n",
            "Whole Summary of Topic 15 with Emotion surprise\n",
            "Whole Summary of Topic 15 with Emotion sadness\n",
            "Whole Summary of Topic 16 with Emotion fear\n",
            "Whole Summary of Topic 16 with Emotion joy\n",
            "Whole Summary of Topic 16 with Emotion surprise\n",
            "Whole Summary of Topic 16 with Emotion sadness\n",
            "Whole Summary of Topic 17 with Emotion fear\n",
            "Whole Summary of Topic 17 with Emotion joy\n",
            "Whole Summary of Topic 17 with Emotion surprise\n",
            "Whole Summary of Topic 17 with Emotion sadness\n",
            "Whole Summary of Topic 18 with Emotion fear\n",
            "Whole Summary of Topic 18 with Emotion joy\n",
            "Whole Summary of Topic 18 with Emotion surprise\n",
            "Whole Summary of Topic 18 with Emotion sadness\n",
            "Whole Summary of Topic 19 with Emotion fear\n",
            "Whole Summary of Topic 19 with Emotion joy\n",
            "Whole Summary of Topic 19 with Emotion surprise\n",
            "Whole Summary of Topic 19 with Emotion sadness\n"
          ]
        }
      ]
    },
    {
      "cell_type": "code",
      "metadata": {
        "colab": {
          "base_uri": "https://localhost:8080/",
          "height": 17
        },
        "id": "fxFqGg-x1Qcw",
        "outputId": "2b143626-48a1-4a17-b66b-d81a8ed5429e"
      },
      "source": [
        "from google.colab import files\n",
        "\n",
        "for category in categories:\n",
        "  for emotion in emotions:\n",
        "    files.download(\"all_\" + str(category)+ \"_\" + str(emotion) + \".txt\")"
      ],
      "execution_count": null,
      "outputs": [
        {
          "output_type": "display_data",
          "data": {
            "application/javascript": [
              "\n",
              "    async function download(id, filename, size) {\n",
              "      if (!google.colab.kernel.accessAllowed) {\n",
              "        return;\n",
              "      }\n",
              "      const div = document.createElement('div');\n",
              "      const label = document.createElement('label');\n",
              "      label.textContent = `Downloading \"${filename}\": `;\n",
              "      div.appendChild(label);\n",
              "      const progress = document.createElement('progress');\n",
              "      progress.max = size;\n",
              "      div.appendChild(progress);\n",
              "      document.body.appendChild(div);\n",
              "\n",
              "      const buffers = [];\n",
              "      let downloaded = 0;\n",
              "\n",
              "      const channel = await google.colab.kernel.comms.open(id);\n",
              "      // Send a message to notify the kernel that we're ready.\n",
              "      channel.send({})\n",
              "\n",
              "      for await (const message of channel.messages) {\n",
              "        // Send a message to notify the kernel that we're ready.\n",
              "        channel.send({})\n",
              "        if (message.buffers) {\n",
              "          for (const buffer of message.buffers) {\n",
              "            buffers.push(buffer);\n",
              "            downloaded += buffer.byteLength;\n",
              "            progress.value = downloaded;\n",
              "          }\n",
              "        }\n",
              "      }\n",
              "      const blob = new Blob(buffers, {type: 'application/binary'});\n",
              "      const a = document.createElement('a');\n",
              "      a.href = window.URL.createObjectURL(blob);\n",
              "      a.download = filename;\n",
              "      div.appendChild(a);\n",
              "      a.click();\n",
              "      div.remove();\n",
              "    }\n",
              "  "
            ],
            "text/plain": [
              "<IPython.core.display.Javascript object>"
            ]
          },
          "metadata": {}
        },
        {
          "output_type": "display_data",
          "data": {
            "application/javascript": [
              "download(\"download_df98cc98-48fa-48b5-8ede-b3f875466b50\", \"all_19_fear.txt\", 1522)"
            ],
            "text/plain": [
              "<IPython.core.display.Javascript object>"
            ]
          },
          "metadata": {}
        },
        {
          "output_type": "display_data",
          "data": {
            "application/javascript": [
              "\n",
              "    async function download(id, filename, size) {\n",
              "      if (!google.colab.kernel.accessAllowed) {\n",
              "        return;\n",
              "      }\n",
              "      const div = document.createElement('div');\n",
              "      const label = document.createElement('label');\n",
              "      label.textContent = `Downloading \"${filename}\": `;\n",
              "      div.appendChild(label);\n",
              "      const progress = document.createElement('progress');\n",
              "      progress.max = size;\n",
              "      div.appendChild(progress);\n",
              "      document.body.appendChild(div);\n",
              "\n",
              "      const buffers = [];\n",
              "      let downloaded = 0;\n",
              "\n",
              "      const channel = await google.colab.kernel.comms.open(id);\n",
              "      // Send a message to notify the kernel that we're ready.\n",
              "      channel.send({})\n",
              "\n",
              "      for await (const message of channel.messages) {\n",
              "        // Send a message to notify the kernel that we're ready.\n",
              "        channel.send({})\n",
              "        if (message.buffers) {\n",
              "          for (const buffer of message.buffers) {\n",
              "            buffers.push(buffer);\n",
              "            downloaded += buffer.byteLength;\n",
              "            progress.value = downloaded;\n",
              "          }\n",
              "        }\n",
              "      }\n",
              "      const blob = new Blob(buffers, {type: 'application/binary'});\n",
              "      const a = document.createElement('a');\n",
              "      a.href = window.URL.createObjectURL(blob);\n",
              "      a.download = filename;\n",
              "      div.appendChild(a);\n",
              "      a.click();\n",
              "      div.remove();\n",
              "    }\n",
              "  "
            ],
            "text/plain": [
              "<IPython.core.display.Javascript object>"
            ]
          },
          "metadata": {}
        },
        {
          "output_type": "display_data",
          "data": {
            "application/javascript": [
              "download(\"download_e9b77ed5-dd03-4e50-b588-1c7df35405de\", \"all_19_joy.txt\", 1376)"
            ],
            "text/plain": [
              "<IPython.core.display.Javascript object>"
            ]
          },
          "metadata": {}
        },
        {
          "output_type": "display_data",
          "data": {
            "application/javascript": [
              "\n",
              "    async function download(id, filename, size) {\n",
              "      if (!google.colab.kernel.accessAllowed) {\n",
              "        return;\n",
              "      }\n",
              "      const div = document.createElement('div');\n",
              "      const label = document.createElement('label');\n",
              "      label.textContent = `Downloading \"${filename}\": `;\n",
              "      div.appendChild(label);\n",
              "      const progress = document.createElement('progress');\n",
              "      progress.max = size;\n",
              "      div.appendChild(progress);\n",
              "      document.body.appendChild(div);\n",
              "\n",
              "      const buffers = [];\n",
              "      let downloaded = 0;\n",
              "\n",
              "      const channel = await google.colab.kernel.comms.open(id);\n",
              "      // Send a message to notify the kernel that we're ready.\n",
              "      channel.send({})\n",
              "\n",
              "      for await (const message of channel.messages) {\n",
              "        // Send a message to notify the kernel that we're ready.\n",
              "        channel.send({})\n",
              "        if (message.buffers) {\n",
              "          for (const buffer of message.buffers) {\n",
              "            buffers.push(buffer);\n",
              "            downloaded += buffer.byteLength;\n",
              "            progress.value = downloaded;\n",
              "          }\n",
              "        }\n",
              "      }\n",
              "      const blob = new Blob(buffers, {type: 'application/binary'});\n",
              "      const a = document.createElement('a');\n",
              "      a.href = window.URL.createObjectURL(blob);\n",
              "      a.download = filename;\n",
              "      div.appendChild(a);\n",
              "      a.click();\n",
              "      div.remove();\n",
              "    }\n",
              "  "
            ],
            "text/plain": [
              "<IPython.core.display.Javascript object>"
            ]
          },
          "metadata": {}
        },
        {
          "output_type": "display_data",
          "data": {
            "application/javascript": [
              "download(\"download_1de8e23f-8a5d-46c0-9dba-14fb75d3e4a1\", \"all_19_surprise.txt\", 2800)"
            ],
            "text/plain": [
              "<IPython.core.display.Javascript object>"
            ]
          },
          "metadata": {}
        },
        {
          "output_type": "display_data",
          "data": {
            "application/javascript": [
              "\n",
              "    async function download(id, filename, size) {\n",
              "      if (!google.colab.kernel.accessAllowed) {\n",
              "        return;\n",
              "      }\n",
              "      const div = document.createElement('div');\n",
              "      const label = document.createElement('label');\n",
              "      label.textContent = `Downloading \"${filename}\": `;\n",
              "      div.appendChild(label);\n",
              "      const progress = document.createElement('progress');\n",
              "      progress.max = size;\n",
              "      div.appendChild(progress);\n",
              "      document.body.appendChild(div);\n",
              "\n",
              "      const buffers = [];\n",
              "      let downloaded = 0;\n",
              "\n",
              "      const channel = await google.colab.kernel.comms.open(id);\n",
              "      // Send a message to notify the kernel that we're ready.\n",
              "      channel.send({})\n",
              "\n",
              "      for await (const message of channel.messages) {\n",
              "        // Send a message to notify the kernel that we're ready.\n",
              "        channel.send({})\n",
              "        if (message.buffers) {\n",
              "          for (const buffer of message.buffers) {\n",
              "            buffers.push(buffer);\n",
              "            downloaded += buffer.byteLength;\n",
              "            progress.value = downloaded;\n",
              "          }\n",
              "        }\n",
              "      }\n",
              "      const blob = new Blob(buffers, {type: 'application/binary'});\n",
              "      const a = document.createElement('a');\n",
              "      a.href = window.URL.createObjectURL(blob);\n",
              "      a.download = filename;\n",
              "      div.appendChild(a);\n",
              "      a.click();\n",
              "      div.remove();\n",
              "    }\n",
              "  "
            ],
            "text/plain": [
              "<IPython.core.display.Javascript object>"
            ]
          },
          "metadata": {}
        },
        {
          "output_type": "display_data",
          "data": {
            "application/javascript": [
              "download(\"download_e19f042e-78e9-4d13-9760-4a32a4eba190\", \"all_19_sadness.txt\", 1294)"
            ],
            "text/plain": [
              "<IPython.core.display.Javascript object>"
            ]
          },
          "metadata": {}
        }
      ]
    },
    {
      "cell_type": "code",
      "metadata": {
        "id": "zFrZnHmtC6HP"
      },
      "source": [
        "fear_count = []\n",
        "surprise_count = []\n",
        "joy_count = []\n",
        "sadness_count = []\n",
        "for category in categories:\n",
        "  fear_count.append(df[(df['Category'] == category) & (df['Emotion'] == 'fear')].shape[0])\n",
        "  surprise_count.append(df[(df['Category'] == category) & (df['Emotion'] == 'surprise')].shape[0])\n",
        "  sadness_count.append(df[(df['Category'] == category) & (df['Emotion'] == 'sadness')].shape[0])\n",
        "  joy_count.append(df[(df['Category'] == category) & (df['Emotion'] == 'joy')].shape[0])"
      ],
      "execution_count": null,
      "outputs": []
    },
    {
      "cell_type": "code",
      "metadata": {
        "colab": {
          "base_uri": "https://localhost:8080/",
          "height": 503
        },
        "id": "4ugsmw_RLonW",
        "outputId": "690172ab-87a2-4a36-bc91-1d3de6d9c97b"
      },
      "source": [
        "# importing package\n",
        "import matplotlib.pyplot as plt\n",
        "import seaborn as sns\n",
        "\n",
        "emotion_df = pd.DataFrame({'category': categories, 'fear': fear_count, 'joy': joy_count, 'surprise': surprise_count, 'sadness': sadness_count})\n",
        "fig, ax = plt.subplots(figsize=(10,8))\n",
        "\n",
        "emotion_df.set_index('category').plot(kind='bar', ax=ax, stacked=True, color=['steelblue', 'red', 'gray', 'pink'])\n",
        "plt.xticks(rotation=45)\n",
        "def change_width(ax, new_value) :\n",
        "    for patch in ax.patches :\n",
        "        current_width = patch.get_width()\n",
        "        diff = current_width - new_value\n",
        "\n",
        "        # we change the bar width\n",
        "        patch.set_width(new_value)\n",
        "\n",
        "        # we recenter the bar\n",
        "        patch.set_x(patch.get_x() + diff * .5)\n",
        "\n",
        "change_width(ax, .6)"
      ],
      "execution_count": null,
      "outputs": [
        {
          "output_type": "display_data",
          "data": {
            "image/png": "[encoded data removed]",
            "text/plain": [
              "<Figure size 720x576 with 1 Axes>"
            ]
          },
          "metadata": {
            "needs_background": "light"
          }
        }
      ]
    }
  ]
}