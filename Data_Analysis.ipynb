{
 "cells": [
  {
   "cell_type": "code",
   "execution_count": 1,
   "id": "67f72ac9",
   "metadata": {},
   "outputs": [],
   "source": [
    "#Name:Yen Pham\n",
    "#CSCE 5290  Project\n",
    "\n",
    "import pandas as pd\n",
    "import matplotlib.pyplot as plt\n",
    "\n",
    "# Read files \n",
    "df = pd.read_csv ('D:\\CSCE5290-Natural Language Processing\\Project\\original_dataset/Reddit_covid_threads.csv')\n",
    "reddit_count = len(df.index)\n",
    "\n",
    "df1 = pd.read_csv ('D:\\CSCE5290-Natural Language Processing\\Project\\original_dataset/Youtube_covid_comments.csv')\n",
    "youtube_count = len(df1.index)\n",
    "\n",
    "df2 = pd.read_csv ('D:\\CSCE5290-Natural Language Processing\\Project\\original_dataset/Twitter_covid_tweets.csv')\n",
    "twitter_count = len(df2.index)"
   ]
  },
  {
   "cell_type": "code",
   "execution_count": 2,
   "id": "efa1a501",
   "metadata": {},
   "outputs": [
    {
     "data": {
      "image/png": "[encoded data removed]",
      "text/plain": [
       "<Figure size 432x288 with 1 Axes>"
      ]
     },
     "metadata": {
      "needs_background": "light"
     },
     "output_type": "display_data"
    }
   ],
   "source": [
    "# Get perc of spams and drop spams\n",
    "\n",
    "df = df.drop_duplicates(subset=['Text'])\n",
    "reddit_spam_perc = (reddit_count - len(df.index))*100/reddit_count\n",
    "\n",
    "df1 = df1.drop_duplicates(subset=['Comment'])\n",
    "youtube_spam_perc = (youtube_count - len(df1.index))*100/youtube_count\n",
    "\n",
    "df2 = df2.drop_duplicates(subset=['Text'])\n",
    "twitter_spam_perc = (twitter_count - len(df2.index))*100/twitter_count\n",
    "\n",
    "# creating the dataset\n",
    "data = {'Reddit':reddit_spam_perc, 'Twitter':twitter_spam_perc , 'Youtube':youtube_spam_perc}\n",
    "keys = list(data.keys())\n",
    "values = list(data.values())\n",
    "  \n",
    "# fig = plt.figure(figsize = (10, 5))\n",
    " \n",
    "# creating the bar plot\n",
    "plt.bar(keys, values, width = 0.4)\n",
    " \n",
    "plt.ylabel(\"Percent %\")\n",
    "plt.title(\"Ratio of spams per channel\")\n",
    "plt.show()\n",
    "# print(df)"
   ]
  },
  {
   "cell_type": "code",
   "execution_count": null,
   "id": "e3a6561f",
   "metadata": {},
   "outputs": [],
   "source": []
  },
  {
   "cell_type": "code",
   "execution_count": 3,
   "id": "16e66518",
   "metadata": {},
   "outputs": [
    {
     "name": "stdout",
     "output_type": "stream",
     "text": [
      "                           Created_at       User_ID  \\\n",
      "0      Wed Oct 20 16:19:28 +0000 2021  1.384310e+18   \n",
      "1      Wed Oct 20 16:19:28 +0000 2021  1.069250e+18   \n",
      "2      Wed Oct 20 16:19:32 +0000 2021  2.511069e+08   \n",
      "3      Wed Oct 20 16:19:33 +0000 2021  1.233376e+08   \n",
      "4      Wed Oct 20 16:19:33 +0000 2021  5.459926e+08   \n",
      "...                               ...           ...   \n",
      "31982  Sun Oct 31 12:50:19 +0000 2021  1.117571e+18   \n",
      "31983  Sun Oct 31 12:50:21 +0000 2021  1.243805e+18   \n",
      "31984  Sun Oct 31 12:50:21 +0000 2021  1.172089e+18   \n",
      "31986  Sun Oct 31 12:50:29 +0000 2021  6.315098e+08   \n",
      "31990  Sun Oct 31 12:50:58 +0000 2021  1.440603e+18   \n",
      "\n",
      "                                                    Text  \n",
      "0      Pfizer acknowledged mix&amp;match approach pio...  \n",
      "1      Tories looking for someone to blame for the fo...  \n",
      "2      Aww man, UK Health sec Sajid Javid's on TV giv...  \n",
      "3      The Saj telling how advanced U.K. is at all th...  \n",
      "4      This man has just said they have secured deals...  \n",
      "...                                                  ...  \n",
      "31982  @AllenFrancesMD Would you consider advocating ...  \n",
      "31983  OAS1 is an important antiviral factor in the c...  \n",
      "31984  #Coronavirus: 12,830 Fresh Covid Cases In Indi...  \n",
      "31986  It's good we TRIED to stop drunk driving but p...  \n",
      "31990  @culladgh #Covid #Covid19 #covidcert #covidpas...  \n",
      "\n",
      "[13578 rows x 3 columns]\n"
     ]
    }
   ],
   "source": [
    "# Clean blank columns (comments were removed due to user's choices)\n",
    "\n",
    "df = df[df['Text'].notna()]\n",
    "df = df[df['User_ID'].notna()]\n",
    "# print(df)\n",
    "\n",
    "df1 = df1[df1['Comment'].notna()]\n",
    "df1 = df1[df1['User_ID'].notna()]\n",
    "# print(df1)\n",
    "\n",
    "df2 = df2[df2['Text'].notna()]\n",
    "df2 = df2[df2['User_ID'].notna()]\n",
    "print(df2)"
   ]
  },
  {
   "cell_type": "code",
   "execution_count": 4,
   "id": "f964aad0",
   "metadata": {},
   "outputs": [
    {
     "name": "stdout",
     "output_type": "stream",
     "text": [
      "Original count of Reddit threads: 37097\n",
      "Original count of Twitter tweets: 13578\n",
      "Original count of Youtube comments: 15965\n"
     ]
    }
   ],
   "source": [
    "import spacy\n",
    "import langdetect\n",
    "import langid\n",
    "import re\n",
    "import numpy as np\n",
    "\n",
    "# Clean up texts by removing hyperlinks, emails, uneccesary punctuations and multi spaces\n",
    "def clean_text(text):\n",
    "    text = re.sub(r'(https)?:\\/\\/.*[\\r\\n]*', '', text, flags=re.MULTILINE)\n",
    "    text = re.sub(r'\\S*@\\S*\\s?', '', text)\n",
    "    text = re.sub(r'\\n', '. ', text)\n",
    "    text = re.sub(r'[^A-Za-z0-9 ,.;:?!:()]+', ' ', text)\n",
    "    text = re.sub(r'\\s+', ' ', text)\n",
    "    return text\n",
    "\n",
    "# Get texts\n",
    "reddit_texts = df['Text'].to_list()\n",
    "youtube_texts = df1['Comment'].to_list()\n",
    "twitter_texts = df2['Text'].to_list()\n",
    "\n",
    "old_reddit_count = len(df.index)\n",
    "old_twitter_count = len(df2.index)\n",
    "old_youtube_count = len(df1.index)\n",
    "print(\"Original count of Reddit threads: \" + str(old_reddit_count))\n",
    "print(\"Original count of Twitter tweets: \" + str(old_twitter_count))\n",
    "print(\"Original count of Youtube comments: \" + str(old_youtube_count))\n",
    "\n",
    "#detect language for twitter\n",
    "for i in range(len(twitter_texts)):\n",
    "    text = clean_text(twitter_texts[i])\n",
    "    try:\n",
    "        result = langdetect.detect_langs(text)\n",
    "        result = str(result[0])[:2]\n",
    "    except:\n",
    "        result = 'unknown'\n",
    "    if result != 'en':\n",
    "        text = np.NaN\n",
    "    twitter_texts[i] = text\n",
    "df2['Text'] = twitter_texts\n",
    "\n",
    "#detet language for reddit\n",
    "for i in range(len(reddit_texts)):\n",
    "    text = clean_text(reddit_texts[i])\n",
    "    try:\n",
    "        result = langdetect.detect_langs(text)\n",
    "        result = str(result[0])[:2]\n",
    "    except:\n",
    "        result = 'unknown'\n",
    "    if result != 'en':\n",
    "        text = np.NaN\n",
    "    reddit_texts[i] = text\n",
    "df['Text'] = reddit_texts\n",
    "\n",
    "#detect ;anguage for youtube\n",
    "for i in range(len(youtube_texts)):\n",
    "    text = clean_text(youtube_texts[i])\n",
    "    try:\n",
    "        result = langdetect.detect_langs(text)\n",
    "        result = str(result[0])[:2]\n",
    "    except:\n",
    "        result = 'unknown'\n",
    "    if result != 'en':\n",
    "        text = np.NaN\n",
    "    youtube_texts[i] = text\n",
    "df1['Comment'] = youtube_texts\n"
   ]
  },
  {
   "cell_type": "code",
   "execution_count": 5,
   "id": "6f34f1f5",
   "metadata": {},
   "outputs": [
    {
     "name": "stdout",
     "output_type": "stream",
     "text": [
      "Count of Reddit non-english threads: 1724\n",
      "Count of Twitter non-english tweets: 382\n",
      "Count of Youtube non-english comments: 4603\n"
     ]
    },
    {
     "data": {
      "image/png": "[encoded data removed]",
      "text/plain": [
       "<Figure size 432x288 with 1 Axes>"
      ]
     },
     "metadata": {
      "needs_background": "light"
     },
     "output_type": "display_data"
    }
   ],
   "source": [
    "df = df[df['Text'].notna()]\n",
    "df1 = df1[df1['Comment'].notna()]\n",
    "df2 = df2[df2['Text'].notna()]\n",
    "# print(df2)\n",
    "\n",
    "# Get count of non-English submissions\n",
    "non_en_reddit_count = old_reddit_count- len(df.index)\n",
    "non_en_twitter_count = old_twitter_count - len(df2.index)\n",
    "non_en_youtube_count = old_youtube_count - len(df1.index)\n",
    "print(\"Count of Reddit non-english threads: \" + str(non_en_reddit_count))\n",
    "print(\"Count of Twitter non-english tweets: \" + str(non_en_twitter_count))\n",
    "print(\"Count of Youtube non-english comments: \" + str(non_en_youtube_count))\n",
    "\n",
    "# Get count of English submissions\n",
    "en_reddit_count = len(df.index)\n",
    "en_twitter_count = len(df2.index)\n",
    "en_youtube_count = len(df1.index)\n",
    "x = ['Reddit', 'Twitter', 'Youtube']\n",
    "y1 = [en_reddit_count, en_twitter_count, en_youtube_count]\n",
    "y2 = [non_en_reddit_count, non_en_twitter_count, non_en_youtube_count]\n",
    "\n",
    "# plot bars in stack manner\n",
    "plt.bar(x, y1, color = 'red')\n",
    "plt.bar(x, y2, bottom=y1, color='blue')\n",
    "plt.ylabel(\"Count\")\n",
    "plt.title(\"Count of English vs. non-English submissions per channel\")\n",
    "plt.legend([\"English\", \"Non-English\"])\n",
    "plt.show()"
   ]
  },
  {
   "cell_type": "code",
   "execution_count": 6,
   "id": "5fe31c9b",
   "metadata": {},
   "outputs": [],
   "source": [
    "from collections import Counter\n",
    "\n",
    "twitter_user_counter = Counter(df2['User_ID'])\n",
    "# print(twitter_user_count)\n",
    "\n",
    "reddit_user_counter = Counter(df['User_ID'])\n",
    "# print(reddit_user_count)\n",
    "\n",
    "youtube_user_counter = Counter(df1['User_ID'])\n",
    "# print(youtube_user_count)\n",
    "\n",
    "# Count number of Twitter users based on their activity (number of submissions) over the time period\n",
    "twitter_over_10 = 0\n",
    "twitter_3_10 = 0\n",
    "twitter_under_3 = 0\n",
    "for value in twitter_user_counter.values():\n",
    "    if value >= 10:\n",
    "        twitter_over_10 += 1\n",
    "    elif value < 10 and value >=3:\n",
    "        twitter_3_10 += 1\n",
    "    else:\n",
    "        twitter_under_3 += 1\n",
    "\n",
    "# Get ratio of twitter users over total tweets\n",
    "twitter_over_10 = twitter_over_10*100/len(df2.index) \n",
    "twitter_3_10 = twitter_3_10*100/len(df2.index)\n",
    "twitter_under_3 = twitter_under_3*100/len(df2.index)\n",
    "\n",
    "# Count number of Reddit users based on their activity (number of submissions) over the time period\n",
    "reddit_over_10 = 0\n",
    "reddit_3_10 = 0\n",
    "reddit_under_3 = 0\n",
    "for value in reddit_user_counter.values():\n",
    "    if value >= 10:\n",
    "        reddit_over_10 += 1\n",
    "    elif value < 10 and value >=3:\n",
    "        reddit_3_10 += 1\n",
    "    else:\n",
    "        reddit_under_3 += 1\n",
    "        \n",
    "# Get ratio of reddit users over total reddit submissions\n",
    "reddit_over_10 = reddit_over_10*100/len(df.index)\n",
    "reddit_3_10 = reddit_3_10*100/len(df.index)\n",
    "reddit_under_3 = reddit_under_3*100/len(df.index)\n",
    "\n",
    "# Count number of Youtube users based on their activity (number of submissions) over the time period\n",
    "youtube_over_10 = 0\n",
    "youtube_3_10 = 0\n",
    "youtube_under_3 = 0\n",
    "for value in youtube_user_counter.values():\n",
    "    if value >= 10:\n",
    "        youtube_over_10 += 1\n",
    "    elif value < 10 and value >=3:\n",
    "        youtube_3_10 += 1\n",
    "    else:\n",
    "        youtube_under_3 += 1\n",
    "\n",
    "# Get ratio of youtube users over total reddit submissions\n",
    "youtube_over_10 = youtube_over_10*100/len(df1.index)\n",
    "youtube_3_10 = youtube_3_10*100/len(df1.index)\n",
    "youtube_under_3 = youtube_under_3*100/len(df1.index)\n"
   ]
  },
  {
   "cell_type": "code",
   "execution_count": 7,
   "id": "a3bdde12",
   "metadata": {},
   "outputs": [
    {
     "data": {
      "image/png": "[encoded data removed]",
      "text/plain": [
       "<Figure size 432x288 with 1 Axes>"
      ]
     },
     "metadata": {
      "needs_background": "light"
     },
     "output_type": "display_data"
    }
   ],
   "source": [
    "# Create bar plot of how active users were over 3 channels\n",
    "labels = ['>10 submissions', '3-10 submissions', '<3 submissions']\n",
    "reddit_info = [reddit_over_10, reddit_3_10, reddit_under_3]\n",
    "twitter_info = [twitter_over_10, twitter_3_10, twitter_under_3]\n",
    "youtube_info = [youtube_over_10, youtube_3_10, youtube_under_3]\n",
    "\n",
    "x = np.arange(len(labels))  # the label locations\n",
    "width = 0.2  # the width of the bars\n",
    "\n",
    "fig, ax = plt.subplots()\n",
    "rects1 = ax.bar(x - 0.2, reddit_info, width, label='Reddit')\n",
    "rects2 = ax.bar(x, twitter_info, width, label='Twitter')\n",
    "rects2 = ax.bar(x + 0.2, youtube_info, width, label='Youtube')\n",
    "\n",
    "# Add some text for labels, title and custom x-axis tick labels, etc.\n",
    "ax.set_ylabel('Percent %')\n",
    "ax.set_title('Percent % of user groups per channel')\n",
    "ax.set_xticks(x)\n",
    "ax.set_xticklabels(labels)\n",
    "ax.legend()\n",
    "\n",
    "fig.tight_layout()\n",
    "\n",
    "plt.show()"
   ]
  },
  {
   "cell_type": "code",
   "execution_count": 8,
   "id": "4054c48b",
   "metadata": {},
   "outputs": [
    {
     "name": "stdout",
     "output_type": "stream",
     "text": [
      "               Created_at            User_ID  \\\n",
      "1     2021-04-03 20:07:49     n3v3r0dd0r3v3n   \n",
      "2     2021-04-07 08:05:05         orangetato   \n",
      "3     2021-04-21 11:34:13    SwinubIsDivinub   \n",
      "4     2021-05-06 17:37:43         Sandshrrew   \n",
      "5     2021-04-03 12:17:14  thinkinanddrinkin   \n",
      "...                   ...                ...   \n",
      "44309 2021-10-21 19:25:25           t3hlazy1   \n",
      "44310 2021-10-21 20:04:42            Pooks23   \n",
      "44311 2021-10-22 13:47:07           dbznzzzz   \n",
      "44312 2021-10-21 16:27:54           verge365   \n",
      "44313 2021-10-21 03:15:38        JerkOffTaco   \n",
      "\n",
      "                                                    Text  \n",
      "1             Working link here:. . See end of chapter 4  \n",
      "2      This has been my opinion the entire time. What...  \n",
      "3      I feel like lockdowns are a right wing authori...  \n",
      "4      As someone who has no idea what this sub is ab...  \n",
      "5       The human body is mortal by nature. Hence ill...  \n",
      "...                                                  ...  \n",
      "44309                                 It is not approved  \n",
      "44310  I got J J in WA in early April. I m now living...  \n",
      "44311  I m on my 7th shot. 3 Pfizer 3 Moderna and 1 J...  \n",
      "44312  Once we get the booster can we stop wearing a ...  \n",
      "44313  Are they going to be opening it up for people ...  \n",
      "\n",
      "[35373 rows x 3 columns]\n"
     ]
    }
   ],
   "source": [
    "from datetime import datetime\n",
    "\n",
    "# Proccess time stamp from Reddit dataset\n",
    "df['Created_at'] = [datetime.utcfromtimestamp(int(timestamp)) for timestamp in df['Time_Stamp']]\n",
    "del df['Time_Stamp']\n",
    "df = df[['Created_at', 'User_ID', 'Text']]\n",
    "print(df)"
   ]
  },
  {
   "cell_type": "code",
   "execution_count": 9,
   "id": "d1a24b8e",
   "metadata": {},
   "outputs": [
    {
     "name": "stdout",
     "output_type": "stream",
     "text": [
      "               Created_at        User_ID  \\\n",
      "0     2021-10-22 00:11:46   Oliver Green   \n",
      "1     2021-10-22 00:58:55   Richard Wick   \n",
      "2     2021-10-22 00:57:57      Susan Sus   \n",
      "3     2021-10-22 00:57:07  Margaret Sera   \n",
      "4     2021-10-22 00:55:15  Alice Kathryn   \n",
      "...                   ...            ...   \n",
      "16512 2021-07-31 01:27:17   Lucky Gandhi   \n",
      "16513 2021-07-30 23:32:28  tiger samurai   \n",
      "16514 2021-07-30 20:40:02      kali doll   \n",
      "16515 2021-07-30 16:06:16   Grace Martin   \n",
      "16516 2021-07-30 15:41:21          0_20X   \n",
      "\n",
      "                                                    Text  \n",
      "0      Modern man is not the man who goes off to disc...  \n",
      "1      I am very glad I stumbled on this today writin...  \n",
      "2      The economic hardship , recession , unemployme...  \n",
      "3      If I had not experienced this myself I would h...  \n",
      "4      I ve seen different recommendations about this...  \n",
      "...                                                  ...  \n",
      "16512  doll i do not claim myself to be WHO the exper...  \n",
      "16513  Repeat a lie many times, and people will regar...  \n",
      "16514                         Do u have any suggestions   \n",
      "16515                       Very important and good news  \n",
      "16516  News they are wasted time to put COVID 19 news...  \n",
      "\n",
      "[11362 rows x 3 columns]\n"
     ]
    }
   ],
   "source": [
    "from dateutil import parser\n",
    "import time\n",
    "\n",
    "# Process timestamp from Youtube dataset\n",
    "df1['Created_at'] = [datetime(*time.strptime(str(timestamp), \"%Y-%m-%dT%H:%M:%SZ\")[:6]) for timestamp in df1['Created_at']]\n",
    "del df1['Video_ID']\n",
    "df1 = df1.rename({'Comment': 'Text'}, axis='columns')\n",
    "print(df1)"
   ]
  },
  {
   "cell_type": "code",
   "execution_count": 10,
   "id": "36c71463",
   "metadata": {},
   "outputs": [
    {
     "name": "stdout",
     "output_type": "stream",
     "text": [
      "                Created_at       User_ID  \\\n",
      "0      2021-10-20 16:19:28  1.384310e+18   \n",
      "1      2021-10-20 16:19:28  1.069250e+18   \n",
      "2      2021-10-20 16:19:32  2.511069e+08   \n",
      "3      2021-10-20 16:19:33  1.233376e+08   \n",
      "4      2021-10-20 16:19:33  5.459926e+08   \n",
      "...                    ...           ...   \n",
      "31982  2021-10-31 12:50:19  1.117571e+18   \n",
      "31983  2021-10-31 12:50:21  1.243805e+18   \n",
      "31984  2021-10-31 12:50:21  1.172089e+18   \n",
      "31986  2021-10-31 12:50:29  6.315098e+08   \n",
      "31990  2021-10-31 12:50:58  1.440603e+18   \n",
      "\n",
      "                                                    Text  \n",
      "0      Pfizer acknowledged mix amp;match approach pio...  \n",
      "1      Tories looking for someone to blame for the fo...  \n",
      "2      Aww man, UK Health sec Sajid Javid s on TV giv...  \n",
      "3      The Saj telling how advanced U.K. is at all th...  \n",
      "4      This man has just said they have secured deals...  \n",
      "...                                                  ...  \n",
      "31982  Would you consider advocating for C19 vaccines...  \n",
      "31983  OAS1 is an important antiviral factor in the c...  \n",
      "31984   Coronavirus: 12,830 Fresh Covid Cases In Indi...  \n",
      "31986  It s good we TRIED to stop drunk driving but p...  \n",
      "31990   Covid Covid19 covidcert covidpass COVIDVaccin...  \n",
      "\n",
      "[13196 rows x 3 columns]\n"
     ]
    }
   ],
   "source": [
    "# Process time stamp from Twitter dataset\n",
    "df2['Created_at'] = [datetime.strftime(datetime.strptime(str(dtime),'%a %b %d %H:%M:%S +0000 %Y'), '%Y-%m-%d %H:%M:%S') for dtime in df2['Created_at']]\n",
    "print(df2)"
   ]
  },
  {
   "cell_type": "code",
   "execution_count": 11,
   "id": "ea90e9d1",
   "metadata": {},
   "outputs": [
    {
     "data": {
      "image/png": "[encoded data removed]",
      "text/plain": [
       "<Figure size 432x288 with 1 Axes>"
      ]
     },
     "metadata": {
      "needs_background": "light"
     },
     "output_type": "display_data"
    }
   ],
   "source": [
    "df_summary = pd.concat([df,df1,df2])\n",
    "\n",
    "# Create bar plot to summarize the submissions over 3 periods in the dataset\n",
    "before_March21_count = 0\n",
    "March21_August21_count = 0\n",
    "after_August21_count = 0\n",
    "for time in df_summary['Created_at']:\n",
    "    time = pd.Timestamp(time, tz=None)\n",
    "    if time.to_pydatetime() < datetime(2021, 3, 1):\n",
    "        before_March21_count += 1\n",
    "    elif time.to_pydatetime() >= datetime(2021, 3, 1) and time.to_pydatetime() < datetime(2021, 8, 31):\n",
    "        March21_August21_count += 1\n",
    "    else:\n",
    "        after_August21_count += 1\n",
    "# print(before_March21_count)\n",
    "# print(March21_August21_count)\n",
    "# print(after_August21_count)\n",
    "\n",
    "# creating the dataset\n",
    "data = {'Before March 1, 2021': before_March21_count, 'March 1 - August 31, 2021': March21_August21_count, 'After August 31, 2021':after_August21_count}\n",
    "keys = list(data.keys())\n",
    "values = list(data.values())\n",
    "  \n",
    "# fig = plt.figure(figsize = (10, 5))\n",
    " \n",
    "# creating the bar plot\n",
    "plt.bar(keys, values, width = 0.4)\n",
    " \n",
    "plt.ylabel(\"Submission Count\")\n",
    "plt.title(\"Count of submissions per period among all 3 channels\")\n",
    "plt.show()\n",
    "# print(df)"
   ]
  },
  {
   "cell_type": "code",
   "execution_count": 12,
   "id": "7a6b56a2",
   "metadata": {},
   "outputs": [],
   "source": [
    "# Save cleaned data to cleaned_data folder\n",
    "df.to_csv(r'D:\\CSCE5290-Natural Language Processing\\Project\\cleaned_data/Reddit_covid_threads.csv', index = False)\n",
    "df1.to_csv(r'D:\\CSCE5290-Natural Language Processing\\Project\\cleaned_data/Youtube_covid_comments.csv', index = False)\n",
    "df2.to_csv(r'D:\\CSCE5290-Natural Language Processing\\Project\\cleaned_data/Twitter_covid_tweets.csv', index = False)"
   ]
  }
 ],
 "metadata": {
  "kernelspec": {
   "display_name": "Python 3.6",
   "language": "python",
   "name": "py36"
  },
  "language_info": {
   "codemirror_mode": {
    "name": "ipython",
    "version": 3
   },
   "file_extension": ".py",
   "mimetype": "text/x-python",
   "name": "python",
   "nbconvert_exporter": "python",
   "pygments_lexer": "ipython3",
   "version": "3.9.6"
  }
 },
 "nbformat": 4,
 "nbformat_minor": 5
}
