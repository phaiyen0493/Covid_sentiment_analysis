{
 "cells": [
  {
   "cell_type": "code",
   "execution_count": 1,
   "id": "67f72ac9",
   "metadata": {},
   "outputs": [],
   "source": [
    "#Name:Yen Pham\n",
    "#CSCE 5290  Project\n",
    "\n",
    "import pandas as pd\n",
    "import matplotlib.pyplot as plt\n",
    "\n",
    "# Read files \n",
    "df = pd.read_csv ('D:\\CSCE5290-Natural Language Processing\\Project\\original_dataset/Reddit_covid_threads.csv')\n",
    "df = df.drop_duplicates()\n",
    "reddit_count = len(df.index)\n",
    "\n",
    "df1 = pd.read_csv ('D:\\CSCE5290-Natural Language Processing\\Project\\original_dataset/Youtube_covid_comments.csv')\n",
    "df1 = df1.drop_duplicates()\n",
    "youtube_count = len(df1.index)\n",
    "\n",
    "df2 = pd.read_csv ('D:\\CSCE5290-Natural Language Processing\\Project\\original_dataset/Twitter_covid_tweets.csv')\n",
    "df2 = df2.drop_duplicates()\n",
    "twitter_count = len(df2.index)"
   ]
  },
  {
   "cell_type": "code",
   "execution_count": 2,
   "id": "efa1a501",
   "metadata": {},
   "outputs": [
    {
     "data": {
      "image/png": "[encoded data removed]",
      "text/plain": [
       "<Figure size 432x288 with 1 Axes>"
      ]
     },
     "metadata": {
      "needs_background": "light"
     },
     "output_type": "display_data"
    }
   ],
   "source": [
    "# Get perc of spams and drop spams\n",
    "\n",
    "df = df.drop_duplicates(subset=['Text'])\n",
    "reddit_spam_perc = (reddit_count - len(df.index))*100/reddit_count\n",
    "\n",
    "df1 = df1.drop_duplicates(subset=['Comment'])\n",
    "youtube_spam_perc = (youtube_count - len(df1.index))*100/youtube_count\n",
    "\n",
    "df2 = df2.drop_duplicates(subset=['Text'])\n",
    "twitter_spam_perc = (twitter_count - len(df2.index))*100/twitter_count\n",
    "\n",
    "# creating the dataset\n",
    "data = {'Reddit':reddit_spam_perc, 'Twitter':twitter_spam_perc , 'Youtube':youtube_spam_perc}\n",
    "keys = list(data.keys())\n",
    "values = list(data.values())\n",
    "  \n",
    "# fig = plt.figure(figsize = (10, 5))\n",
    " \n",
    "# creating the bar plot\n",
    "plt.bar(keys, values, width = 0.4)\n",
    " \n",
    "plt.ylabel(\"Percent %\")\n",
    "plt.title(\"Ratio of spams per channel\")\n",
    "plt.show()\n",
    "# print(df)"
   ]
  },
  {
   "cell_type": "code",
   "execution_count": null,
   "id": "e3a6561f",
   "metadata": {},
   "outputs": [],
   "source": []
  },
  {
   "cell_type": "code",
   "execution_count": 3,
   "id": "16e66518",
   "metadata": {},
   "outputs": [
    {
     "name": "stdout",
     "output_type": "stream",
     "text": [
      "                           Created_at       User_ID  \\\n",
      "0      Wed Oct 20 16:19:28 +0000 2021  1.384310e+18   \n",
      "1      Wed Oct 20 16:19:28 +0000 2021  1.069250e+18   \n",
      "2      Wed Oct 20 16:19:32 +0000 2021  2.511069e+08   \n",
      "3      Wed Oct 20 16:19:33 +0000 2021  1.233376e+08   \n",
      "4      Wed Oct 20 16:19:33 +0000 2021  5.459926e+08   \n",
      "...                               ...           ...   \n",
      "76768  Sat Nov 27 06:42:00 +0000 2021  1.454399e+18   \n",
      "76769  Sat Nov 27 06:42:03 +0000 2021  1.918924e+09   \n",
      "76771  Sat Nov 27 06:42:25 +0000 2021  1.928808e+09   \n",
      "76777  Sat Nov 27 06:42:29 +0000 2021  1.113906e+18   \n",
      "76780  Sat Nov 27 06:42:39 +0000 2021  1.113906e+18   \n",
      "\n",
      "                                                    Text  \n",
      "0      Pfizer acknowledged mix&amp;match approach pio...  \n",
      "1      Tories looking for someone to blame for the fo...  \n",
      "2      Aww man, UK Health sec Sajid Javid's on TV giv...  \n",
      "3      The Saj telling how advanced U.K. is at all th...  \n",
      "4      This man has just said they have secured deals...  \n",
      "...                                                  ...  \n",
      "76768  All of us have secrets in our lives...🤐\\nBut d...  \n",
      "76769  Vice Mayor requested and council approved. 🙄🙄😡...  \n",
      "76771  As always, questionable leadership with no for...  \n",
      "76777  @carolinecstark @ConversationUS I believe the ...  \n",
      "76780  @carolinecstark We are not going to be able to...  \n",
      "\n",
      "[33891 rows x 3 columns]\n"
     ]
    }
   ],
   "source": [
    "# Clean blank columns (comments were removed due to user's choices)\n",
    "\n",
    "df = df[df['Text'].notna()]\n",
    "df = df[df['User_ID'].notna()]\n",
    "# print(df)\n",
    "\n",
    "df1 = df1[df1['Comment'].notna()]\n",
    "df1 = df1[df1['User_ID'].notna()]\n",
    "# print(df1)\n",
    "\n",
    "df2 = df2[df2['Text'].notna()]\n",
    "df2 = df2[df2['User_ID'].notna()]\n",
    "print(df2)"
   ]
  },
  {
   "cell_type": "code",
   "execution_count": 4,
   "id": "f964aad0",
   "metadata": {},
   "outputs": [
    {
     "name": "stdout",
     "output_type": "stream",
     "text": [
      "Original count of Reddit threads: 89005\n",
      "Original count of Twitter tweets: 33891\n",
      "Original count of Youtube comments: 58755\n"
     ]
    }
   ],
   "source": [
    "import spacy\n",
    "import langdetect\n",
    "import langid\n",
    "import re\n",
    "import numpy as np\n",
    "\n",
    "# Clean up texts by removing hyperlinks, emails, uneccesary punctuations and multi spaces\n",
    "def clean_text(text):\n",
    "    text = re.sub(r'(https)?:\\/\\/.*[\\r\\n]*', '', text, flags=re.MULTILINE)\n",
    "    text = re.sub(r'\\S*@\\S*\\s?', '', text)\n",
    "    text = re.sub(r'(#+[a-zA-Z0-9(_)]{1,})', ' ', text)\n",
    "    text = re.sub(r'(&+[a-zA-Z0-9(_)]{1,})', ' ', text)\n",
    "    text = re.sub(r'<br', ' ', text)\n",
    "    text = re.sub(r'\\n', '. ', text)\n",
    "    text = re.sub(r'[^A-Za-z0-9 ,.:?!()\\']+', ' ', text)\n",
    "    text = re.sub(r'(\\.)+', '. ', text)\n",
    "    text = re.sub(r'\\s+', ' ', text)\n",
    "    return text\n",
    "\n",
    "# Get texts\n",
    "reddit_texts = df['Text'].to_list()\n",
    "youtube_texts = df1['Comment'].to_list()\n",
    "twitter_texts = df2['Text'].to_list()\n",
    "\n",
    "old_reddit_count = len(df.index)\n",
    "old_twitter_count = len(df2.index)\n",
    "old_youtube_count = len(df1.index)\n",
    "print(\"Original count of Reddit threads: \" + str(old_reddit_count))\n",
    "print(\"Original count of Twitter tweets: \" + str(old_twitter_count))\n",
    "print(\"Original count of Youtube comments: \" + str(old_youtube_count))\n",
    "\n",
    "#detect language for twitter\n",
    "for i in range(len(twitter_texts)):\n",
    "    text = clean_text(twitter_texts[i])\n",
    "    try:\n",
    "        result = langdetect.detect_langs(text)\n",
    "        result = str(result[0])[:2]\n",
    "    except:\n",
    "        result = 'unknown'\n",
    "    if result != 'en':\n",
    "        text = np.NaN\n",
    "    twitter_texts[i] = text\n",
    "df2['Text'] = twitter_texts\n",
    "\n",
    "#detet language for reddit\n",
    "for i in range(len(reddit_texts)):\n",
    "    text = clean_text(reddit_texts[i])\n",
    "    try:\n",
    "        result = langdetect.detect_langs(text)\n",
    "        result = str(result[0])[:2]\n",
    "    except:\n",
    "        result = 'unknown'\n",
    "    if result != 'en':\n",
    "        text = np.NaN\n",
    "    reddit_texts[i] = text\n",
    "df['Text'] = reddit_texts\n",
    "\n",
    "#detect ;anguage for youtube\n",
    "for i in range(len(youtube_texts)):\n",
    "    text = clean_text(youtube_texts[i])\n",
    "    try:\n",
    "        result = langdetect.detect_langs(text)\n",
    "        result = str(result[0])[:2]\n",
    "    except:\n",
    "        result = 'unknown'\n",
    "    if result != 'en':\n",
    "        text = np.NaN\n",
    "    youtube_texts[i] = text\n",
    "df1['Comment'] = youtube_texts\n"
   ]
  },
  {
   "cell_type": "code",
   "execution_count": 5,
   "id": "6f34f1f5",
   "metadata": {},
   "outputs": [
    {
     "name": "stdout",
     "output_type": "stream",
     "text": [
      "Count of Reddit non-english threads: 4051\n",
      "Count of Twitter non-english tweets: 4538\n",
      "Count of Youtube non-english comments: 19207\n"
     ]
    },
    {
     "data": {
      "image/png": "[encoded data removed]",
      "text/plain": [
       "<Figure size 432x288 with 1 Axes>"
      ]
     },
     "metadata": {
      "needs_background": "light"
     },
     "output_type": "display_data"
    }
   ],
   "source": [
    "df = df[df['Text'].notna()]\n",
    "df = df.drop_duplicates(subset=['Text'])\n",
    "df1 = df1[df1['Comment'].notna()]\n",
    "df1 = df1.drop_duplicates(subset=['Comment'])\n",
    "df2 = df2[df2['Text'].notna()]\n",
    "df2 = df2.drop_duplicates(subset=['Text'])\n",
    "# print(df2)\n",
    "\n",
    "# Get count of non-English submissions\n",
    "non_en_reddit_count = old_reddit_count- len(df.index)\n",
    "non_en_twitter_count = old_twitter_count - len(df2.index)\n",
    "non_en_youtube_count = old_youtube_count - len(df1.index)\n",
    "print(\"Count of Reddit non-english threads: \" + str(non_en_reddit_count))\n",
    "print(\"Count of Twitter non-english tweets: \" + str(non_en_twitter_count))\n",
    "print(\"Count of Youtube non-english comments: \" + str(non_en_youtube_count))\n",
    "\n",
    "# Get count of English submissions\n",
    "en_reddit_count = len(df.index)\n",
    "en_twitter_count = len(df2.index)\n",
    "en_youtube_count = len(df1.index)\n",
    "x = ['Reddit', 'Twitter', 'Youtube']\n",
    "y1 = [en_reddit_count, en_twitter_count, en_youtube_count]\n",
    "y2 = [non_en_reddit_count, non_en_twitter_count, non_en_youtube_count]\n",
    "\n",
    "# plot bars in stack manner\n",
    "plt.bar(x, y1, color = 'red')\n",
    "plt.bar(x, y2, bottom=y1, color='blue')\n",
    "plt.ylabel(\"Count\")\n",
    "plt.title(\"Count of English vs. non-English submissions per channel\")\n",
    "plt.legend([\"English\", \"Non-English\"])\n",
    "plt.show()"
   ]
  },
  {
   "cell_type": "code",
   "execution_count": 6,
   "id": "5fe31c9b",
   "metadata": {},
   "outputs": [],
   "source": [
    "from collections import Counter\n",
    "\n",
    "twitter_user_counter = Counter(df2['User_ID'])\n",
    "# print(twitter_user_count)\n",
    "\n",
    "reddit_user_counter = Counter(df['User_ID'])\n",
    "# print(reddit_user_count)\n",
    "\n",
    "youtube_user_counter = Counter(df1['User_ID'])\n",
    "# print(youtube_user_count)\n",
    "\n",
    "# Count number of Twitter users based on their activity (number of submissions) over the time period\n",
    "twitter_over_10 = 0\n",
    "twitter_3_10 = 0\n",
    "twitter_under_3 = 0\n",
    "for value in twitter_user_counter.values():\n",
    "    if value >= 10:\n",
    "        twitter_over_10 += 1\n",
    "    elif value < 10 and value >=3:\n",
    "        twitter_3_10 += 1\n",
    "    else:\n",
    "        twitter_under_3 += 1\n",
    "\n",
    "# Get ratio of twitter users over total tweets\n",
    "twitter_over_10 = twitter_over_10*100/len(df2.index) \n",
    "twitter_3_10 = twitter_3_10*100/len(df2.index)\n",
    "twitter_under_3 = twitter_under_3*100/len(df2.index)\n",
    "\n",
    "# Count number of Reddit users based on their activity (number of submissions) over the time period\n",
    "reddit_over_10 = 0\n",
    "reddit_3_10 = 0\n",
    "reddit_under_3 = 0\n",
    "for value in reddit_user_counter.values():\n",
    "    if value >= 10:\n",
    "        reddit_over_10 += 1\n",
    "    elif value < 10 and value >=3:\n",
    "        reddit_3_10 += 1\n",
    "    else:\n",
    "        reddit_under_3 += 1\n",
    "        \n",
    "# Get ratio of reddit users over total reddit submissions\n",
    "reddit_over_10 = reddit_over_10*100/len(df.index)\n",
    "reddit_3_10 = reddit_3_10*100/len(df.index)\n",
    "reddit_under_3 = reddit_under_3*100/len(df.index)\n",
    "\n",
    "# Count number of Youtube users based on their activity (number of submissions) over the time period\n",
    "youtube_over_10 = 0\n",
    "youtube_3_10 = 0\n",
    "youtube_under_3 = 0\n",
    "for value in youtube_user_counter.values():\n",
    "    if value >= 10:\n",
    "        youtube_over_10 += 1\n",
    "    elif value < 10 and value >=3:\n",
    "        youtube_3_10 += 1\n",
    "    else:\n",
    "        youtube_under_3 += 1\n",
    "\n",
    "# Get ratio of youtube users over total reddit submissions\n",
    "youtube_over_10 = youtube_over_10*100/len(df1.index)\n",
    "youtube_3_10 = youtube_3_10*100/len(df1.index)\n",
    "youtube_under_3 = youtube_under_3*100/len(df1.index)\n"
   ]
  },
  {
   "cell_type": "code",
   "execution_count": 7,
   "id": "a3bdde12",
   "metadata": {},
   "outputs": [
    {
     "data": {
      "image/png": "[encoded data removed]",
      "text/plain": [
       "<Figure size 432x288 with 1 Axes>"
      ]
     },
     "metadata": {
      "needs_background": "light"
     },
     "output_type": "display_data"
    }
   ],
   "source": [
    "# Create bar plot of how active users were over 3 channels\n",
    "labels = ['>10 submissions', '3-10 submissions', '<3 submissions']\n",
    "reddit_info = [reddit_over_10, reddit_3_10, reddit_under_3]\n",
    "twitter_info = [twitter_over_10, twitter_3_10, twitter_under_3]\n",
    "youtube_info = [youtube_over_10, youtube_3_10, youtube_under_3]\n",
    "\n",
    "x = np.arange(len(labels))  # the label locations\n",
    "width = 0.2  # the width of the bars\n",
    "\n",
    "fig, ax = plt.subplots()\n",
    "rects1 = ax.bar(x - 0.2, reddit_info, width, label='Reddit')\n",
    "rects2 = ax.bar(x, twitter_info, width, label='Twitter')\n",
    "rects2 = ax.bar(x + 0.2, youtube_info, width, label='Youtube')\n",
    "\n",
    "# Add some text for labels, title and custom x-axis tick labels, etc.\n",
    "ax.set_ylabel('Percent %')\n",
    "ax.set_title('Percent % of user groups per channel')\n",
    "ax.set_xticks(x)\n",
    "ax.set_xticklabels(labels)\n",
    "ax.legend()\n",
    "\n",
    "fig.tight_layout()\n",
    "\n",
    "plt.show()"
   ]
  },
  {
   "cell_type": "code",
   "execution_count": 11,
   "id": "4054c48b",
   "metadata": {},
   "outputs": [
    {
     "name": "stdout",
     "output_type": "stream",
     "text": [
      "                Created_at              User_ID  \\\n",
      "0      2020-02-19 01:36:55           TeRiYaki32   \n",
      "1      2020-02-19 01:37:13           TeRiYaki32   \n",
      "2      2020-02-19 02:10:57        Prayers4Wuhan   \n",
      "5      2020-02-19 08:29:12                loot6   \n",
      "6      2020-02-19 10:16:32           Sefton2020   \n",
      "...                    ...                  ...   \n",
      "104539 2021-11-25 00:42:00  throwaway3772917422   \n",
      "104540 2021-11-25 02:31:40          evilplushie   \n",
      "104541 2021-11-25 13:12:06        Ivehadlettuce   \n",
      "104542 2021-11-25 16:40:05      MembraneAnomaly   \n",
      "104543 2021-11-25 19:14:47          SpecialPea8   \n",
      "\n",
      "                                                     Text  \n",
      "0       Feb 19, 2020, updated periodically. Unfortunat...  \n",
      "1       Moderators, we should sticky this to the front...  \n",
      "2                            Welcome to Freedom of Speech  \n",
      "5       SO2 is high because they have to burn medical ...  \n",
      "6       They ll find a way of silencing this sub too s...  \n",
      "...                                                   ...  \n",
      "104539  My kid had covid a few months ago and to be to...  \n",
      "104540              Msm needs to leave the children alone  \n",
      "104541  Lifelong pandemic side effects. . Like being u...  \n",
      "104542  Thanks to other commenters, especially u Weste...  \n",
      "104543  Right before the push to inject kids? Wow what...  \n",
      "\n",
      "[84954 rows x 3 columns]\n"
     ]
    }
   ],
   "source": [
    "from datetime import datetime\n",
    "\n",
    "# Proccess time stamp from Reddit dataset\n",
    "df['Created_at'] = [datetime.utcfromtimestamp(int(timestamp)) for timestamp in df['Time_Stamp']]\n",
    "del df['Time_Stamp']\n",
    "df = df[['Created_at', 'User_ID', 'Text']]\n",
    "print(df)\n"
   ]
  },
  {
   "cell_type": "code",
   "execution_count": 12,
   "id": "d1a24b8e",
   "metadata": {},
   "outputs": [
    {
     "name": "stdout",
     "output_type": "stream",
     "text": [
      "               Created_at         User_ID  \\\n",
      "0     2021-10-22 00:11:46    Oliver Green   \n",
      "1     2021-10-22 00:58:55    Richard Wick   \n",
      "2     2021-10-22 00:57:57       Susan Sus   \n",
      "3     2021-10-22 00:57:07   Margaret Sera   \n",
      "4     2021-10-22 00:55:15   Alice Kathryn   \n",
      "...                   ...             ...   \n",
      "60955 2021-11-24 17:08:52         dee dee   \n",
      "60958 2021-11-24 16:32:23               _   \n",
      "60959 2021-11-24 16:12:31   Spencer Brown   \n",
      "60960 2021-11-24 16:05:27  Devon McKnight   \n",
      "60961 2021-11-24 18:47:07      Rebecca B.   \n",
      "\n",
      "                                                    Text  \n",
      "0      Modern man is not the man who goes off to disc...  \n",
      "1      I am very glad I stumbled on this today writin...  \n",
      "2      The economic hardship , recession , unemployme...  \n",
      "3      If I had not experienced this myself I would h...  \n",
      "4      I ve seen different recommendations about this...  \n",
      "...                                                  ...  \n",
      "60955  My red corpsuckels are in mass confusion, Shoo...  \n",
      "60958  Shots, boosters,pills. nah fam I m rockin the ...  \n",
      "60959     Worldwide vaccinated efficacy FAIL!!!!!!!!!!!!  \n",
      "60960  What a clown I will buy me young child a Fauci...  \n",
      "60961                         and stick pins in its eyes  \n",
      "\n",
      "[39548 rows x 3 columns]\n"
     ]
    }
   ],
   "source": [
    "from dateutil import parser\n",
    "import time\n",
    "\n",
    "# Process timestamp from Youtube dataset\n",
    "df1['Created_at'] = [datetime(*time.strptime(str(timestamp), \"%Y-%m-%dT%H:%M:%SZ\")[:6]) for timestamp in df1['Created_at']]\n",
    "del df1['Video_ID']\n",
    "df1 = df1.rename({'Comment': 'Text'}, axis='columns')\n",
    "print(df1)"
   ]
  },
  {
   "cell_type": "code",
   "execution_count": 13,
   "id": "36c71463",
   "metadata": {},
   "outputs": [
    {
     "name": "stdout",
     "output_type": "stream",
     "text": [
      "                Created_at       User_ID  \\\n",
      "0      2021-10-20 16:19:28  1.384310e+18   \n",
      "1      2021-10-20 16:19:28  1.069250e+18   \n",
      "2      2021-10-20 16:19:32  2.511069e+08   \n",
      "3      2021-10-20 16:19:33  1.233376e+08   \n",
      "4      2021-10-20 16:19:33  5.459926e+08   \n",
      "...                    ...           ...   \n",
      "76768  2021-11-27 06:42:00  1.454399e+18   \n",
      "76769  2021-11-27 06:42:03  1.918924e+09   \n",
      "76771  2021-11-27 06:42:25  1.928808e+09   \n",
      "76777  2021-11-27 06:42:29  1.113906e+18   \n",
      "76780  2021-11-27 06:42:39  1.113906e+18   \n",
      "\n",
      "                                                    Text  \n",
      "0      Pfizer acknowledged mix match approach pioneer...  \n",
      "1      Tories looking for someone to blame for the fo...  \n",
      "2      Aww man, UK Health sec Sajid Javid's on TV giv...  \n",
      "3      The Saj telling how advanced U. K. is at all t...  \n",
      "4      This man has just said they have secured deals...  \n",
      "...                                                  ...  \n",
      "76768  All of us have secrets in our lives. . But did...  \n",
      "76769     Vice Mayor requested and council approved. 19   \n",
      "76771  As always, questionable leadership with no for...  \n",
      "76777  I believe the CDC has become compromised durin...  \n",
      "76780  We are not going to be able to vaccinate our w...  \n",
      "\n",
      "[29353 rows x 3 columns]\n"
     ]
    }
   ],
   "source": [
    "# Process time stamp from Twitter dataset\n",
    "df2['Created_at'] = [datetime.strftime(datetime.strptime(str(dtime),'%a %b %d %H:%M:%S +0000 %Y'), '%Y-%m-%d %H:%M:%S') for dtime in df2['Created_at']]\n",
    "print(df2)"
   ]
  },
  {
   "cell_type": "code",
   "execution_count": 14,
   "id": "ea90e9d1",
   "metadata": {},
   "outputs": [
    {
     "data": {
      "image/png": "[encoded data removed]",
      "text/plain": [
       "<Figure size 432x288 with 1 Axes>"
      ]
     },
     "metadata": {
      "needs_background": "light"
     },
     "output_type": "display_data"
    }
   ],
   "source": [
    "df_summary = pd.concat([df,df1,df2])\n",
    "\n",
    "# Create bar plot to summarize the submissions over 3 periods in the dataset\n",
    "before_March21_count = 0\n",
    "March21_August21_count = 0\n",
    "after_August21_count = 0\n",
    "for time in df_summary['Created_at']:\n",
    "    time = pd.Timestamp(time, tz=None)\n",
    "    if time.to_pydatetime() < datetime(2021, 3, 1):\n",
    "        before_March21_count += 1\n",
    "    elif time.to_pydatetime() >= datetime(2021, 3, 1) and time.to_pydatetime() < datetime(2021, 8, 31):\n",
    "        March21_August21_count += 1\n",
    "    else:\n",
    "        after_August21_count += 1\n",
    "# print(before_March21_count)\n",
    "# print(March21_August21_count)\n",
    "# print(after_August21_count)\n",
    "\n",
    "# creating the dataset\n",
    "data = {'Before March 1, 2021': before_March21_count, 'March 1 - August 31, 2021': March21_August21_count, 'After August 31, 2021':after_August21_count}\n",
    "keys = list(data.keys())\n",
    "values = list(data.values())\n",
    "  \n",
    "# fig = plt.figure(figsize = (10, 5))\n",
    " \n",
    "# creating the bar plot\n",
    "plt.bar(keys, values, width = 0.4)\n",
    " \n",
    "plt.ylabel(\"Submission Count\")\n",
    "plt.title(\"Count of submissions per period among all 3 channels\")\n",
    "plt.show()\n",
    "# print(df)"
   ]
  },
  {
   "cell_type": "code",
   "execution_count": 15,
   "id": "7a6b56a2",
   "metadata": {},
   "outputs": [],
   "source": [
    "# Save cleaned data to cleaned_data folder\n",
    "df.to_csv(r'D:\\CSCE5290-Natural Language Processing\\Project\\cleaned_data/Reddit_covid_threads.csv', index = False)\n",
    "df1.to_csv(r'D:\\CSCE5290-Natural Language Processing\\Project\\cleaned_data/Youtube_covid_comments.csv', index = False)\n",
    "df2.to_csv(r'D:\\CSCE5290-Natural Language Processing\\Project\\cleaned_data/Twitter_covid_tweets.csv', index = False)"
   ]
  }
 ],
 "metadata": {
  "kernelspec": {
   "display_name": "Python 3.6",
   "language": "python",
   "name": "py36"
  },
  "language_info": {
   "codemirror_mode": {
    "name": "ipython",
    "version": 3
   },
   "file_extension": ".py",
   "mimetype": "text/x-python",
   "name": "python",
   "nbconvert_exporter": "python",
   "pygments_lexer": "ipython3",
   "version": "3.9.6"
  }
 },
 "nbformat": 4,
 "nbformat_minor": 5
}
